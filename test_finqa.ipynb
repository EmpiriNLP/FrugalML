{
 "cells": [
  {
   "cell_type": "code",
   "execution_count": 1,
   "metadata": {},
   "outputs": [
    {
     "name": "stderr",
     "output_type": "stream",
     "text": [
      "Exception ignored in: <bound method IPythonKernel._clean_thread_parent_frames of <ipykernel.ipkernel.IPythonKernel object at 0x7f64360684c0>>\n",
      "Traceback (most recent call last):\n",
      "  File \"/cs/student/projects1/aibh/2024/tpatil/venv_comp0188/lib64/python3.9/site-packages/ipykernel/ipkernel.py\", line 775, in _clean_thread_parent_frames\n",
      "    def _clean_thread_parent_frames(\n",
      "KeyboardInterrupt: \n"
     ]
    },
    {
     "ename": "KeyboardInterrupt",
     "evalue": "",
     "output_type": "error",
     "traceback": [
      "\u001b[0;31m---------------------------------------------------------------------------\u001b[0m",
      "\u001b[0;31mKeyboardInterrupt\u001b[0m                         Traceback (most recent call last)",
      "Cell \u001b[0;32mIn[1], line 2\u001b[0m\n\u001b[1;32m      1\u001b[0m \u001b[38;5;28;01mimport\u001b[39;00m \u001b[38;5;21;01mjson\u001b[39;00m\n\u001b[0;32m----> 2\u001b[0m \u001b[38;5;28;01mfrom\u001b[39;00m \u001b[38;5;21;01mtorch\u001b[39;00m\u001b[38;5;21;01m.\u001b[39;00m\u001b[38;5;21;01mutils\u001b[39;00m\u001b[38;5;21;01m.\u001b[39;00m\u001b[38;5;21;01mdata\u001b[39;00m \u001b[38;5;28;01mimport\u001b[39;00m Dataset, DataLoader\n",
      "File \u001b[0;32m/cs/student/projects1/aibh/2024/tpatil/venv_comp0188/lib64/python3.9/site-packages/torch/__init__.py:2060\u001b[0m\n\u001b[1;32m   2044\u001b[0m \u001b[38;5;66;03m################################################################################\u001b[39;00m\n\u001b[1;32m   2045\u001b[0m \u001b[38;5;66;03m# Import most common subpackages\u001b[39;00m\n\u001b[1;32m   2046\u001b[0m \u001b[38;5;66;03m################################################################################\u001b[39;00m\n\u001b[0;32m   (...)\u001b[0m\n\u001b[1;32m   2051\u001b[0m \n\u001b[1;32m   2052\u001b[0m \u001b[38;5;66;03m# needs to be before import torch.nn as nn to avoid circular dependencies\u001b[39;00m\n\u001b[1;32m   2053\u001b[0m \u001b[38;5;28;01mfrom\u001b[39;00m \u001b[38;5;21;01mtorch\u001b[39;00m\u001b[38;5;21;01m.\u001b[39;00m\u001b[38;5;21;01mautograd\u001b[39;00m \u001b[38;5;28;01mimport\u001b[39;00m (  \u001b[38;5;66;03m# usort: skip\u001b[39;00m\n\u001b[1;32m   2054\u001b[0m     enable_grad \u001b[38;5;28;01mas\u001b[39;00m enable_grad,\n\u001b[1;32m   2055\u001b[0m     inference_mode \u001b[38;5;28;01mas\u001b[39;00m inference_mode,\n\u001b[1;32m   2056\u001b[0m     no_grad \u001b[38;5;28;01mas\u001b[39;00m no_grad,\n\u001b[1;32m   2057\u001b[0m     set_grad_enabled \u001b[38;5;28;01mas\u001b[39;00m set_grad_enabled,\n\u001b[1;32m   2058\u001b[0m )\n\u001b[0;32m-> 2060\u001b[0m \u001b[38;5;28;01mfrom\u001b[39;00m \u001b[38;5;21;01mtorch\u001b[39;00m \u001b[38;5;28;01mimport\u001b[39;00m (\n\u001b[1;32m   2061\u001b[0m     __config__ \u001b[38;5;28;01mas\u001b[39;00m __config__,\n\u001b[1;32m   2062\u001b[0m     __future__ \u001b[38;5;28;01mas\u001b[39;00m __future__,\n\u001b[1;32m   2063\u001b[0m     _awaits \u001b[38;5;28;01mas\u001b[39;00m _awaits,\n\u001b[1;32m   2064\u001b[0m     autograd \u001b[38;5;28;01mas\u001b[39;00m autograd,\n\u001b[1;32m   2065\u001b[0m     backends \u001b[38;5;28;01mas\u001b[39;00m backends,\n\u001b[1;32m   2066\u001b[0m     cpu \u001b[38;5;28;01mas\u001b[39;00m cpu,\n\u001b[1;32m   2067\u001b[0m     cuda \u001b[38;5;28;01mas\u001b[39;00m cuda,\n\u001b[1;32m   2068\u001b[0m     distributed \u001b[38;5;28;01mas\u001b[39;00m distributed,\n\u001b[1;32m   2069\u001b[0m     distributions \u001b[38;5;28;01mas\u001b[39;00m distributions,\n\u001b[1;32m   2070\u001b[0m     fft \u001b[38;5;28;01mas\u001b[39;00m fft,\n\u001b[1;32m   2071\u001b[0m     futures \u001b[38;5;28;01mas\u001b[39;00m futures,\n\u001b[1;32m   2072\u001b[0m     hub \u001b[38;5;28;01mas\u001b[39;00m hub,\n\u001b[1;32m   2073\u001b[0m     jit \u001b[38;5;28;01mas\u001b[39;00m jit,\n\u001b[1;32m   2074\u001b[0m     linalg \u001b[38;5;28;01mas\u001b[39;00m linalg,\n\u001b[1;32m   2075\u001b[0m     mps \u001b[38;5;28;01mas\u001b[39;00m mps,\n\u001b[1;32m   2076\u001b[0m     mtia \u001b[38;5;28;01mas\u001b[39;00m mtia,\n\u001b[1;32m   2077\u001b[0m     multiprocessing \u001b[38;5;28;01mas\u001b[39;00m multiprocessing,\n\u001b[1;32m   2078\u001b[0m     nested \u001b[38;5;28;01mas\u001b[39;00m nested,\n\u001b[1;32m   2079\u001b[0m     nn \u001b[38;5;28;01mas\u001b[39;00m nn,\n\u001b[1;32m   2080\u001b[0m     optim \u001b[38;5;28;01mas\u001b[39;00m optim,\n\u001b[1;32m   2081\u001b[0m     overrides \u001b[38;5;28;01mas\u001b[39;00m overrides,\n\u001b[1;32m   2082\u001b[0m     profiler \u001b[38;5;28;01mas\u001b[39;00m profiler,\n\u001b[1;32m   2083\u001b[0m     sparse \u001b[38;5;28;01mas\u001b[39;00m sparse,\n\u001b[1;32m   2084\u001b[0m     special \u001b[38;5;28;01mas\u001b[39;00m special,\n\u001b[1;32m   2085\u001b[0m     testing \u001b[38;5;28;01mas\u001b[39;00m testing,\n\u001b[1;32m   2086\u001b[0m     types \u001b[38;5;28;01mas\u001b[39;00m types,\n\u001b[1;32m   2087\u001b[0m     utils \u001b[38;5;28;01mas\u001b[39;00m utils,\n\u001b[1;32m   2088\u001b[0m     xpu \u001b[38;5;28;01mas\u001b[39;00m xpu,\n\u001b[1;32m   2089\u001b[0m )\n\u001b[1;32m   2090\u001b[0m \u001b[38;5;28;01mfrom\u001b[39;00m \u001b[38;5;21;01mtorch\u001b[39;00m\u001b[38;5;21;01m.\u001b[39;00m\u001b[38;5;21;01msignal\u001b[39;00m \u001b[38;5;28;01mimport\u001b[39;00m windows \u001b[38;5;28;01mas\u001b[39;00m windows\n\u001b[1;32m   2093\u001b[0m \u001b[38;5;66;03m# Quantized, sparse, AO, etc. should be last to get imported, as nothing\u001b[39;00m\n\u001b[1;32m   2094\u001b[0m \u001b[38;5;66;03m# is expected to depend on them.\u001b[39;00m\n",
      "File \u001b[0;32m/cs/student/projects1/aibh/2024/tpatil/venv_comp0188/lib64/python3.9/site-packages/torch/distributions/__init__.py:116\u001b[0m\n\u001b[1;32m    114\u001b[0m \u001b[38;5;28;01mfrom\u001b[39;00m \u001b[38;5;21;01m.\u001b[39;00m\u001b[38;5;21;01mtransforms\u001b[39;00m \u001b[38;5;28;01mimport\u001b[39;00m \u001b[38;5;241m*\u001b[39m  \u001b[38;5;66;03m# noqa: F403\u001b[39;00m\n\u001b[1;32m    115\u001b[0m \u001b[38;5;28;01mfrom\u001b[39;00m \u001b[38;5;21;01m.\u001b[39;00m\u001b[38;5;21;01muniform\u001b[39;00m \u001b[38;5;28;01mimport\u001b[39;00m Uniform\n\u001b[0;32m--> 116\u001b[0m \u001b[38;5;28;01mfrom\u001b[39;00m \u001b[38;5;21;01m.\u001b[39;00m\u001b[38;5;21;01mvon_mises\u001b[39;00m \u001b[38;5;28;01mimport\u001b[39;00m VonMises\n\u001b[1;32m    117\u001b[0m \u001b[38;5;28;01mfrom\u001b[39;00m \u001b[38;5;21;01m.\u001b[39;00m\u001b[38;5;21;01mweibull\u001b[39;00m \u001b[38;5;28;01mimport\u001b[39;00m Weibull\n\u001b[1;32m    118\u001b[0m \u001b[38;5;28;01mfrom\u001b[39;00m \u001b[38;5;21;01m.\u001b[39;00m\u001b[38;5;21;01mwishart\u001b[39;00m \u001b[38;5;28;01mimport\u001b[39;00m Wishart\n",
      "File \u001b[0;32m/cs/student/projects1/aibh/2024/tpatil/venv_comp0188/lib64/python3.9/site-packages/torch/distributions/von_mises.py:5\u001b[0m\n\u001b[1;32m      2\u001b[0m \u001b[38;5;28;01mimport\u001b[39;00m \u001b[38;5;21;01mmath\u001b[39;00m\n\u001b[1;32m      4\u001b[0m \u001b[38;5;28;01mimport\u001b[39;00m \u001b[38;5;21;01mtorch\u001b[39;00m\n\u001b[0;32m----> 5\u001b[0m \u001b[38;5;28;01mimport\u001b[39;00m \u001b[38;5;21;01mtorch\u001b[39;00m\u001b[38;5;21;01m.\u001b[39;00m\u001b[38;5;21;01mjit\u001b[39;00m\n\u001b[1;32m      6\u001b[0m \u001b[38;5;28;01mfrom\u001b[39;00m \u001b[38;5;21;01mtorch\u001b[39;00m\u001b[38;5;21;01m.\u001b[39;00m\u001b[38;5;21;01mdistributions\u001b[39;00m \u001b[38;5;28;01mimport\u001b[39;00m constraints\n\u001b[1;32m      7\u001b[0m \u001b[38;5;28;01mfrom\u001b[39;00m \u001b[38;5;21;01mtorch\u001b[39;00m\u001b[38;5;21;01m.\u001b[39;00m\u001b[38;5;21;01mdistributions\u001b[39;00m\u001b[38;5;21;01m.\u001b[39;00m\u001b[38;5;21;01mdistribution\u001b[39;00m \u001b[38;5;28;01mimport\u001b[39;00m Distribution\n",
      "File \u001b[0;32m/cs/student/projects1/aibh/2024/tpatil/venv_comp0188/lib64/python3.9/site-packages/torch/jit/__init__.py:26\u001b[0m\n\u001b[1;32m     24\u001b[0m \u001b[38;5;28;01mfrom\u001b[39;00m \u001b[38;5;21;01mtorch\u001b[39;00m\u001b[38;5;21;01m.\u001b[39;00m\u001b[38;5;21;01mjit\u001b[39;00m\u001b[38;5;21;01m.\u001b[39;00m\u001b[38;5;21;01m_await\u001b[39;00m \u001b[38;5;28;01mimport\u001b[39;00m _awaitable, _awaitable_nowait, _awaitable_wait\n\u001b[1;32m     25\u001b[0m \u001b[38;5;28;01mfrom\u001b[39;00m \u001b[38;5;21;01mtorch\u001b[39;00m\u001b[38;5;21;01m.\u001b[39;00m\u001b[38;5;21;01mjit\u001b[39;00m\u001b[38;5;21;01m.\u001b[39;00m\u001b[38;5;21;01m_decomposition_utils\u001b[39;00m \u001b[38;5;28;01mimport\u001b[39;00m _register_decomposition\n\u001b[0;32m---> 26\u001b[0m \u001b[38;5;28;01mfrom\u001b[39;00m \u001b[38;5;21;01mtorch\u001b[39;00m\u001b[38;5;21;01m.\u001b[39;00m\u001b[38;5;21;01mjit\u001b[39;00m\u001b[38;5;21;01m.\u001b[39;00m\u001b[38;5;21;01m_freeze\u001b[39;00m \u001b[38;5;28;01mimport\u001b[39;00m freeze, optimize_for_inference, run_frozen_optimizations\n\u001b[1;32m     27\u001b[0m \u001b[38;5;28;01mfrom\u001b[39;00m \u001b[38;5;21;01mtorch\u001b[39;00m\u001b[38;5;21;01m.\u001b[39;00m\u001b[38;5;21;01mjit\u001b[39;00m\u001b[38;5;21;01m.\u001b[39;00m\u001b[38;5;21;01m_fuser\u001b[39;00m \u001b[38;5;28;01mimport\u001b[39;00m (\n\u001b[1;32m     28\u001b[0m     fuser,\n\u001b[1;32m     29\u001b[0m     last_executed_optimized_graph,\n\u001b[1;32m     30\u001b[0m     optimized_execution,\n\u001b[1;32m     31\u001b[0m     set_fusion_strategy,\n\u001b[1;32m     32\u001b[0m )\n\u001b[1;32m     33\u001b[0m \u001b[38;5;28;01mfrom\u001b[39;00m \u001b[38;5;21;01mtorch\u001b[39;00m\u001b[38;5;21;01m.\u001b[39;00m\u001b[38;5;21;01mjit\u001b[39;00m\u001b[38;5;21;01m.\u001b[39;00m\u001b[38;5;21;01m_ir_utils\u001b[39;00m \u001b[38;5;28;01mimport\u001b[39;00m _InsertPoint\n",
      "File \u001b[0;32m/cs/student/projects1/aibh/2024/tpatil/venv_comp0188/lib64/python3.9/site-packages/torch/jit/_freeze.py:11\u001b[0m\n\u001b[1;32m      8\u001b[0m \u001b[38;5;28;01mfrom\u001b[39;00m \u001b[38;5;21;01mtyping\u001b[39;00m \u001b[38;5;28;01mimport\u001b[39;00m List, Optional\n\u001b[1;32m     10\u001b[0m \u001b[38;5;28;01mimport\u001b[39;00m \u001b[38;5;21;01mtorch\u001b[39;00m\n\u001b[0;32m---> 11\u001b[0m \u001b[38;5;28;01mfrom\u001b[39;00m \u001b[38;5;21;01mtorch\u001b[39;00m\u001b[38;5;21;01m.\u001b[39;00m\u001b[38;5;21;01mjit\u001b[39;00m\u001b[38;5;21;01m.\u001b[39;00m\u001b[38;5;21;01m_script\u001b[39;00m \u001b[38;5;28;01mimport\u001b[39;00m RecursiveScriptModule, ScriptModule\n\u001b[1;32m     14\u001b[0m \u001b[38;5;28;01mdef\u001b[39;00m \u001b[38;5;21mfreeze\u001b[39m(\n\u001b[1;32m     15\u001b[0m     mod, preserved_attrs: Optional[List[\u001b[38;5;28mstr\u001b[39m]] \u001b[38;5;241m=\u001b[39m \u001b[38;5;28;01mNone\u001b[39;00m, optimize_numerics: \u001b[38;5;28mbool\u001b[39m \u001b[38;5;241m=\u001b[39m \u001b[38;5;28;01mTrue\u001b[39;00m\n\u001b[1;32m     16\u001b[0m ):\n\u001b[1;32m     17\u001b[0m \u001b[38;5;250m    \u001b[39m\u001b[38;5;124mr\u001b[39m\u001b[38;5;124;03m\"\"\"Freeze ScriptModule, inline submodules, and attributes as constants.\u001b[39;00m\n\u001b[1;32m     18\u001b[0m \n\u001b[1;32m     19\u001b[0m \u001b[38;5;124;03m    Freezing a :class:`ScriptModule` will clone it and attempt to inline the cloned\u001b[39;00m\n\u001b[0;32m   (...)\u001b[0m\n\u001b[1;32m    101\u001b[0m \u001b[38;5;124;03m        device-specific logic may have been baked into the model.\u001b[39;00m\n\u001b[1;32m    102\u001b[0m \u001b[38;5;124;03m    \"\"\"\u001b[39;00m\n",
      "File \u001b[0;32m/cs/student/projects1/aibh/2024/tpatil/venv_comp0188/lib64/python3.9/site-packages/torch/jit/_script.py:30\u001b[0m\n\u001b[1;32m     24\u001b[0m \u001b[38;5;28;01mfrom\u001b[39;00m \u001b[38;5;21;01mtorch\u001b[39;00m\u001b[38;5;21;01m.\u001b[39;00m\u001b[38;5;21;01mjit\u001b[39;00m\u001b[38;5;21;01m.\u001b[39;00m\u001b[38;5;21;01m_fuser\u001b[39;00m \u001b[38;5;28;01mimport\u001b[39;00m _graph_for, _script_method_graph_for\n\u001b[1;32m     25\u001b[0m \u001b[38;5;28;01mfrom\u001b[39;00m \u001b[38;5;21;01mtorch\u001b[39;00m\u001b[38;5;21;01m.\u001b[39;00m\u001b[38;5;21;01mjit\u001b[39;00m\u001b[38;5;21;01m.\u001b[39;00m\u001b[38;5;21;01m_monkeytype_config\u001b[39;00m \u001b[38;5;28;01mimport\u001b[39;00m (\n\u001b[1;32m     26\u001b[0m     JitTypeTraceConfig,\n\u001b[1;32m     27\u001b[0m     JitTypeTraceStore,\n\u001b[1;32m     28\u001b[0m     monkeytype_trace,\n\u001b[1;32m     29\u001b[0m )\n\u001b[0;32m---> 30\u001b[0m \u001b[38;5;28;01mfrom\u001b[39;00m \u001b[38;5;21;01mtorch\u001b[39;00m\u001b[38;5;21;01m.\u001b[39;00m\u001b[38;5;21;01mjit\u001b[39;00m\u001b[38;5;21;01m.\u001b[39;00m\u001b[38;5;21;01m_recursive\u001b[39;00m \u001b[38;5;28;01mimport\u001b[39;00m (\n\u001b[1;32m     31\u001b[0m     _compile_and_register_class,\n\u001b[1;32m     32\u001b[0m     infer_methods_to_compile,\n\u001b[1;32m     33\u001b[0m     ScriptMethodStub,\n\u001b[1;32m     34\u001b[0m     wrap_cpp_module,\n\u001b[1;32m     35\u001b[0m )\n\u001b[1;32m     36\u001b[0m \u001b[38;5;28;01mfrom\u001b[39;00m \u001b[38;5;21;01mtorch\u001b[39;00m\u001b[38;5;21;01m.\u001b[39;00m\u001b[38;5;21;01mjit\u001b[39;00m\u001b[38;5;21;01m.\u001b[39;00m\u001b[38;5;21;01m_state\u001b[39;00m \u001b[38;5;28;01mimport\u001b[39;00m (\n\u001b[1;32m     37\u001b[0m     _enabled,\n\u001b[1;32m     38\u001b[0m     _set_jit_function_cache,\n\u001b[0;32m   (...)\u001b[0m\n\u001b[1;32m     41\u001b[0m     _try_get_jit_cached_overloads,\n\u001b[1;32m     42\u001b[0m )\n\u001b[1;32m     43\u001b[0m \u001b[38;5;28;01mfrom\u001b[39;00m \u001b[38;5;21;01mtorch\u001b[39;00m\u001b[38;5;21;01m.\u001b[39;00m\u001b[38;5;21;01mjit\u001b[39;00m\u001b[38;5;21;01m.\u001b[39;00m\u001b[38;5;21;01mfrontend\u001b[39;00m \u001b[38;5;28;01mimport\u001b[39;00m get_default_args, get_jit_class_def, get_jit_def\n",
      "File \u001b[0;32m/cs/student/projects1/aibh/2024/tpatil/venv_comp0188/lib64/python3.9/site-packages/torch/jit/_recursive.py:17\u001b[0m\n\u001b[1;32m     15\u001b[0m \u001b[38;5;28;01mfrom\u001b[39;00m \u001b[38;5;21;01mtorch\u001b[39;00m\u001b[38;5;21;01m.\u001b[39;00m\u001b[38;5;21;01mjit\u001b[39;00m\u001b[38;5;21;01m.\u001b[39;00m\u001b[38;5;21;01m_check\u001b[39;00m \u001b[38;5;28;01mimport\u001b[39;00m AttributeTypeIsSupportedChecker\n\u001b[1;32m     16\u001b[0m \u001b[38;5;28;01mfrom\u001b[39;00m \u001b[38;5;21;01mtorch\u001b[39;00m\u001b[38;5;21;01m.\u001b[39;00m\u001b[38;5;21;01mjit\u001b[39;00m\u001b[38;5;21;01m.\u001b[39;00m\u001b[38;5;21;01m_state\u001b[39;00m \u001b[38;5;28;01mimport\u001b[39;00m _add_script_class, _get_script_class, _python_cu\n\u001b[0;32m---> 17\u001b[0m \u001b[38;5;28;01mfrom\u001b[39;00m \u001b[38;5;21;01mtorch\u001b[39;00m\u001b[38;5;21;01m.\u001b[39;00m\u001b[38;5;21;01mjit\u001b[39;00m\u001b[38;5;21;01m.\u001b[39;00m\u001b[38;5;21;01mfrontend\u001b[39;00m \u001b[38;5;28;01mimport\u001b[39;00m (\n\u001b[1;32m     18\u001b[0m     get_class_properties,\n\u001b[1;32m     19\u001b[0m     get_default_args,\n\u001b[1;32m     20\u001b[0m     get_jit_class_def,\n\u001b[1;32m     21\u001b[0m     get_jit_def,\n\u001b[1;32m     22\u001b[0m )\n\u001b[1;32m     23\u001b[0m \u001b[38;5;28;01mfrom\u001b[39;00m \u001b[38;5;21;01mtorch\u001b[39;00m\u001b[38;5;21;01m.\u001b[39;00m\u001b[38;5;21;01mnn\u001b[39;00m \u001b[38;5;28;01mimport\u001b[39;00m Module\n\u001b[1;32m     26\u001b[0m ScriptMethodStub \u001b[38;5;241m=\u001b[39m collections\u001b[38;5;241m.\u001b[39mnamedtuple(\n\u001b[1;32m     27\u001b[0m     \u001b[38;5;124m\"\u001b[39m\u001b[38;5;124mScriptMethodStub\u001b[39m\u001b[38;5;124m\"\u001b[39m, (\u001b[38;5;124m\"\u001b[39m\u001b[38;5;124mresolution_callback\u001b[39m\u001b[38;5;124m\"\u001b[39m, \u001b[38;5;124m\"\u001b[39m\u001b[38;5;124mdef_\u001b[39m\u001b[38;5;124m\"\u001b[39m, \u001b[38;5;124m\"\u001b[39m\u001b[38;5;124moriginal_method\u001b[39m\u001b[38;5;124m\"\u001b[39m)\n\u001b[1;32m     28\u001b[0m )\n",
      "File \u001b[0;32m/cs/student/projects1/aibh/2024/tpatil/venv_comp0188/lib64/python3.9/site-packages/torch/jit/frontend.py:13\u001b[0m\n\u001b[1;32m     10\u001b[0m \u001b[38;5;28;01mfrom\u001b[39;00m \u001b[38;5;21;01mtyping\u001b[39;00m \u001b[38;5;28;01mimport\u001b[39;00m List, Tuple  \u001b[38;5;66;03m# noqa: F401\u001b[39;00m\n\u001b[1;32m     12\u001b[0m \u001b[38;5;28;01mimport\u001b[39;00m \u001b[38;5;21;01mtorch\u001b[39;00m\n\u001b[0;32m---> 13\u001b[0m \u001b[38;5;28;01mimport\u001b[39;00m \u001b[38;5;21;01mtorch\u001b[39;00m\u001b[38;5;21;01m.\u001b[39;00m\u001b[38;5;21;01mjit\u001b[39;00m\u001b[38;5;21;01m.\u001b[39;00m\u001b[38;5;21;01mannotations\u001b[39;00m\n\u001b[1;32m     14\u001b[0m \u001b[38;5;28;01mfrom\u001b[39;00m \u001b[38;5;21;01mtorch\u001b[39;00m \u001b[38;5;28;01mimport\u001b[39;00m _jit_internal\n\u001b[1;32m     15\u001b[0m \u001b[38;5;28;01mfrom\u001b[39;00m \u001b[38;5;21;01mtorch\u001b[39;00m\u001b[38;5;21;01m.\u001b[39;00m\u001b[38;5;21;01m_C\u001b[39;00m\u001b[38;5;21;01m.\u001b[39;00m\u001b[38;5;21;01m_jit_tree_views\u001b[39;00m \u001b[38;5;28;01mimport\u001b[39;00m (\n\u001b[1;32m     16\u001b[0m     Apply,\n\u001b[1;32m     17\u001b[0m     Assert,\n\u001b[0;32m   (...)\u001b[0m\n\u001b[1;32m     59\u001b[0m     WithItem,\n\u001b[1;32m     60\u001b[0m )\n",
      "File \u001b[0;32m<frozen importlib._bootstrap>:1007\u001b[0m, in \u001b[0;36m_find_and_load\u001b[0;34m(name, import_)\u001b[0m\n",
      "File \u001b[0;32m<frozen importlib._bootstrap>:986\u001b[0m, in \u001b[0;36m_find_and_load_unlocked\u001b[0;34m(name, import_)\u001b[0m\n",
      "File \u001b[0;32m<frozen importlib._bootstrap>:680\u001b[0m, in \u001b[0;36m_load_unlocked\u001b[0;34m(spec)\u001b[0m\n",
      "File \u001b[0;32m<frozen importlib._bootstrap_external>:846\u001b[0m, in \u001b[0;36mexec_module\u001b[0;34m(self, module)\u001b[0m\n",
      "File \u001b[0;32m<frozen importlib._bootstrap_external>:941\u001b[0m, in \u001b[0;36mget_code\u001b[0;34m(self, fullname)\u001b[0m\n",
      "File \u001b[0;32m<frozen importlib._bootstrap_external>:1041\u001b[0m, in \u001b[0;36mget_data\u001b[0;34m(self, path)\u001b[0m\n",
      "\u001b[0;31mKeyboardInterrupt\u001b[0m: "
     ]
    }
   ],
   "source": [
    "import json\n",
    "from torch.utils.data import Dataset, DataLoader"
   ]
  },
  {
   "cell_type": "code",
   "execution_count": null,
   "metadata": {},
   "outputs": [],
   "source": [
    "def load_finqa_dataset(path):\n",
    "    with open(path, \"r\") as f:\n",
    "        return json.load(f)\n",
    "    \n",
    "train_data_finqa = load_finqa_dataset(\"/cs/student/projects1/aibh/2024/tpatil/comp0087/FrugalML/datasets/FinQA/train.json\")\n",
    "val_data_finqa = load_finqa_dataset(\"/cs/student/projects1/aibh/2024/tpatil/comp0087/FrugalML/datasets/FinQA/dev.json\")\n",
    "test_data_finqa = load_finqa_dataset(\"/cs/student/projects1/aibh/2024/tpatil/comp0087/FrugalML/datasets/FinQA/test.json\")"
   ]
  },
  {
   "cell_type": "code",
   "execution_count": 23,
   "metadata": {},
   "outputs": [
    {
     "data": {
      "text/plain": [
       "{'pre_text': ['interest rate to a variable interest rate based on the three-month libor plus 2.05% ( 2.05 % ) ( 2.34% ( 2.34 % ) as of october 31 , 2009 ) .',\n",
       "  'if libor changes by 100 basis points , our annual interest expense would change by $ 3.8 million .',\n",
       "  'foreign currency exposure as more fully described in note 2i .',\n",
       "  'in the notes to consolidated financial statements contained in item 8 of this annual report on form 10-k , we regularly hedge our non-u.s .',\n",
       "  'dollar-based exposures by entering into forward foreign currency exchange contracts .',\n",
       "  'the terms of these contracts are for periods matching the duration of the underlying exposure and generally range from one month to twelve months .',\n",
       "  'currently , our largest foreign currency exposure is the euro , primarily because our european operations have the highest proportion of our local currency denominated expenses .',\n",
       "  'relative to foreign currency exposures existing at october 31 , 2009 and november 1 , 2008 , a 10% ( 10 % ) unfavorable movement in foreign currency exchange rates over the course of the year would not expose us to significant losses in earnings or cash flows because we hedge a high proportion of our year-end exposures against fluctuations in foreign currency exchange rates .',\n",
       "  'the market risk associated with our derivative instruments results from currency exchange rate or interest rate movements that are expected to offset the market risk of the underlying transactions , assets and liabilities being hedged .',\n",
       "  'the counterparties to the agreements relating to our foreign exchange instruments consist of a number of major international financial institutions with high credit ratings .',\n",
       "  'we do not believe that there is significant risk of nonperformance by these counterparties because we continually monitor the credit ratings of such counterparties .',\n",
       "  'while the contract or notional amounts of derivative financial instruments provide one measure of the volume of these transactions , they do not represent the amount of our exposure to credit risk .',\n",
       "  'the amounts potentially subject to credit risk ( arising from the possible inability of counterparties to meet the terms of their contracts ) are generally limited to the amounts , if any , by which the counterparties 2019 obligations under the contracts exceed our obligations to the counterparties .',\n",
       "  'the following table illustrates the effect that a 10% ( 10 % ) unfavorable or favorable movement in foreign currency exchange rates , relative to the u.s .',\n",
       "  'dollar , would have on the fair value of our forward exchange contracts as of october 31 , 2009 and november 1 , 2008: .'],\n",
       " 'post_text': ['fair value of forward exchange contracts after a 10% ( 10 % ) unfavorable movement in foreign currency exchange rates asset ( liability ) .',\n",
       "  '.',\n",
       "  '.',\n",
       "  '.',\n",
       "  '.',\n",
       "  '.',\n",
       "  '.',\n",
       "  '.',\n",
       "  '.',\n",
       "  '$ 20132 $ ( 9457 ) fair value of forward exchange contracts after a 10% ( 10 % ) favorable movement in foreign currency exchange rates liability .',\n",
       "  '.',\n",
       "  '.',\n",
       "  '.',\n",
       "  '.',\n",
       "  '.',\n",
       "  '.',\n",
       "  '.',\n",
       "  '.',\n",
       "  '.',\n",
       "  '.',\n",
       "  '.',\n",
       "  '.',\n",
       "  '.',\n",
       "  '.',\n",
       "  '.',\n",
       "  '.',\n",
       "  '.',\n",
       "  '.',\n",
       "  '.',\n",
       "  '.',\n",
       "  '.',\n",
       "  '$ ( 6781 ) $ ( 38294 ) the calculation assumes that each exchange rate would change in the same direction relative to the u.s .',\n",
       "  'dollar .',\n",
       "  'in addition to the direct effects of changes in exchange rates , such changes typically affect the volume of sales or the foreign currency sales price as competitors 2019 products become more or less attractive .',\n",
       "  'our sensitivity analysis of the effects of changes in foreign currency exchange rates does not factor in a potential change in sales levels or local currency selling prices. .'],\n",
       " 'filename': 'ADI/2009/page_49.pdf',\n",
       " 'table_ori': [['', 'October 31, 2009', 'November 1, 2008'],\n",
       "  ['Fair value of forward exchange contracts asset (liability)',\n",
       "   '$6,427',\n",
       "   '$(23,158)'],\n",
       "  ['Fair value of forward exchange contracts after a 10% unfavorable movement in foreign currency exchange rates asset (liability)',\n",
       "   '$20,132',\n",
       "   '$(9,457)'],\n",
       "  ['Fair value of forward exchange contracts after a 10% favorable movement in foreign currency exchange rates liability',\n",
       "   '$(6,781)',\n",
       "   '$(38,294)']],\n",
       " 'table': [['', 'october 31 2009', 'november 1 2008'],\n",
       "  ['fair value of forward exchange contracts asset ( liability )',\n",
       "   '$ 6427',\n",
       "   '$ -23158 ( 23158 )'],\n",
       "  ['fair value of forward exchange contracts after a 10% ( 10 % ) unfavorable movement in foreign currency exchange rates asset ( liability )',\n",
       "   '$ 20132',\n",
       "   '$ -9457 ( 9457 )'],\n",
       "  ['fair value of forward exchange contracts after a 10% ( 10 % ) favorable movement in foreign currency exchange rates liability',\n",
       "   '$ -6781 ( 6781 )',\n",
       "   '$ -38294 ( 38294 )']],\n",
       " 'qa': {'question': 'what is the the interest expense in 2009?',\n",
       "  'answer': '380',\n",
       "  'explanation': '',\n",
       "  'ann_table_rows': [],\n",
       "  'ann_text_rows': [1],\n",
       "  'steps': [{'op': 'divide1-1', 'arg1': '100', 'arg2': '100', 'res': '1%'},\n",
       "   {'op': 'divide1-2', 'arg1': '3.8', 'arg2': '#0', 'res': '380'}],\n",
       "  'program': 'divide(100, 100), divide(3.8, #0)',\n",
       "  'gold_inds': {'text_1': 'if libor changes by 100 basis points , our annual interest expense would change by $ 3.8 million .'},\n",
       "  'exe_ans': 3.8,\n",
       "  'tfidftopn': {'text_14': 'dollar , would have on the fair value of our forward exchange contracts as of october 31 , 2009 and november 1 , 2008: .',\n",
       "   'text_0': 'interest rate to a variable interest rate based on the three-month libor plus 2.05% ( 2.05 % ) ( 2.34% ( 2.34 % ) as of october 31 , 2009 ) .'},\n",
       "  'program_re': 'divide(3.8, divide(100, 100))',\n",
       "  'model_input': [['text_0',\n",
       "    'interest rate to a variable interest rate based on the three-month libor plus 2.05% ( 2.05 % ) ( 2.34% ( 2.34 % ) as of october 31 , 2009 ) .'],\n",
       "   ['text_1',\n",
       "    'if libor changes by 100 basis points , our annual interest expense would change by $ 3.8 million .'],\n",
       "   ['text_14',\n",
       "    'dollar , would have on the fair value of our forward exchange contracts as of october 31 , 2009 and november 1 , 2008: .']]},\n",
       " 'id': 'ADI/2009/page_49.pdf-1',\n",
       " 'table_retrieved': [{'score': -0.6207679510116577, 'ind': 'table_1'},\n",
       "  {'score': -0.8948984742164612, 'ind': 'table_2'}],\n",
       " 'text_retrieved': [{'score': 1.251369595527649, 'ind': 'text_1'},\n",
       "  {'score': 0.6589734554290771, 'ind': 'text_0'},\n",
       "  {'score': -0.1914736032485962, 'ind': 'text_14'}],\n",
       " 'table_retrieved_all': [{'score': -0.6207679510116577, 'ind': 'table_1'},\n",
       "  {'score': -0.8948984742164612, 'ind': 'table_2'},\n",
       "  {'score': -1.2129878997802734, 'ind': 'table_3'},\n",
       "  {'score': -2.9782934188842773, 'ind': 'table_0'}],\n",
       " 'text_retrieved_all': [{'score': 1.251369595527649, 'ind': 'text_1'},\n",
       "  {'score': 0.6589734554290771, 'ind': 'text_0'},\n",
       "  {'score': -0.1914736032485962, 'ind': 'text_14'},\n",
       "  {'score': -1.0945320129394531, 'ind': 'text_47'},\n",
       "  {'score': -1.4916260242462158, 'ind': 'text_24'},\n",
       "  {'score': -1.5615578889846802, 'ind': 'text_12'},\n",
       "  {'score': -1.572263479232788, 'ind': 'text_15'},\n",
       "  {'score': -1.6337369680404663, 'ind': 'text_5'},\n",
       "  {'score': -1.678298830986023, 'ind': 'text_3'},\n",
       "  {'score': -1.6905218362808228, 'ind': 'text_6'},\n",
       "  {'score': -1.9114893674850464, 'ind': 'text_46'},\n",
       "  {'score': -1.914547324180603, 'ind': 'text_7'},\n",
       "  {'score': -1.955027461051941, 'ind': 'text_8'},\n",
       "  {'score': -2.0304598808288574, 'ind': 'text_49'},\n",
       "  {'score': -2.0383174419403076, 'ind': 'text_13'},\n",
       "  {'score': -2.112241268157959, 'ind': 'text_10'},\n",
       "  {'score': -2.1439552307128906, 'ind': 'text_11'},\n",
       "  {'score': -2.2258567810058594, 'ind': 'text_4'},\n",
       "  {'score': -2.409395694732666, 'ind': 'text_48'},\n",
       "  {'score': -2.6092159748077393, 'ind': 'text_9'},\n",
       "  {'score': -2.6313436031341553, 'ind': 'text_2'},\n",
       "  {'score': -2.932347536087036, 'ind': 'text_16'},\n",
       "  {'score': -2.932347536087036, 'ind': 'text_17'},\n",
       "  {'score': -2.932347536087036, 'ind': 'text_18'},\n",
       "  {'score': -2.932347536087036, 'ind': 'text_19'},\n",
       "  {'score': -2.932347536087036, 'ind': 'text_20'},\n",
       "  {'score': -2.932347536087036, 'ind': 'text_21'},\n",
       "  {'score': -2.932347536087036, 'ind': 'text_22'},\n",
       "  {'score': -2.932347536087036, 'ind': 'text_23'},\n",
       "  {'score': -2.932347536087036, 'ind': 'text_25'},\n",
       "  {'score': -2.932347536087036, 'ind': 'text_26'},\n",
       "  {'score': -2.932347536087036, 'ind': 'text_27'},\n",
       "  {'score': -2.932347536087036, 'ind': 'text_28'},\n",
       "  {'score': -2.932347536087036, 'ind': 'text_29'},\n",
       "  {'score': -2.932347536087036, 'ind': 'text_30'},\n",
       "  {'score': -2.932347536087036, 'ind': 'text_31'},\n",
       "  {'score': -2.932347536087036, 'ind': 'text_32'},\n",
       "  {'score': -2.932347536087036, 'ind': 'text_33'},\n",
       "  {'score': -2.932347536087036, 'ind': 'text_34'},\n",
       "  {'score': -2.932347536087036, 'ind': 'text_35'},\n",
       "  {'score': -2.932347536087036, 'ind': 'text_36'},\n",
       "  {'score': -2.932347536087036, 'ind': 'text_37'},\n",
       "  {'score': -2.932347536087036, 'ind': 'text_38'},\n",
       "  {'score': -2.932347536087036, 'ind': 'text_39'},\n",
       "  {'score': -2.932347536087036, 'ind': 'text_40'},\n",
       "  {'score': -2.932347536087036, 'ind': 'text_41'},\n",
       "  {'score': -2.932347536087036, 'ind': 'text_42'},\n",
       "  {'score': -2.932347536087036, 'ind': 'text_43'},\n",
       "  {'score': -2.932347536087036, 'ind': 'text_44'},\n",
       "  {'score': -2.932347536087036, 'ind': 'text_45'}]}"
      ]
     },
     "execution_count": 23,
     "metadata": {},
     "output_type": "execute_result"
    }
   ],
   "source": [
    "examples = train_dataset_finqa[0]\n",
    "examples"
   ]
  },
  {
   "cell_type": "code",
   "execution_count": 24,
   "metadata": {},
   "outputs": [
    {
     "data": {
      "text/plain": [
       "[['', 'october 31 2009', 'november 1 2008'],\n",
       " ['fair value of forward exchange contracts asset ( liability )',\n",
       "  '$ 6427',\n",
       "  '$ -23158 ( 23158 )'],\n",
       " ['fair value of forward exchange contracts after a 10% ( 10 % ) unfavorable movement in foreign currency exchange rates asset ( liability )',\n",
       "  '$ 20132',\n",
       "  '$ -9457 ( 9457 )'],\n",
       " ['fair value of forward exchange contracts after a 10% ( 10 % ) favorable movement in foreign currency exchange rates liability',\n",
       "  '$ -6781 ( 6781 )',\n",
       "  '$ -38294 ( 38294 )']]"
      ]
     },
     "execution_count": 24,
     "metadata": {},
     "output_type": "execute_result"
    }
   ],
   "source": [
    "examples['table']"
   ]
  },
  {
   "cell_type": "code",
   "execution_count": 25,
   "metadata": {},
   "outputs": [
    {
     "data": {
      "text/plain": [
       "'\\nTable:\\n|october 31 2009|november 1 2008 \\nfair value of forward exchange contracts asset ( liability )|$ 6427|$ -23158 ( 23158 ) \\nfair value of forward exchange contracts after a 10% ( 10 % ) unfavorable movement in foreign currency exchange rates asset ( liability )|$ 20132|$ -9457 ( 9457 ) \\nfair value of forward exchange contracts after a 10% ( 10 % ) favorable movement in foreign currency exchange rates liability|$ -6781 ( 6781 )|$ -38294 ( 38294 ) \\n'"
      ]
     },
     "execution_count": 25,
     "metadata": {},
     "output_type": "execute_result"
    }
   ],
   "source": [
    "table = examples['table']\n",
    "table_prompt=\"\"\n",
    "table_prompt += f\"\\nTable:\\n\"\n",
    "for row in table:\n",
    "    table_prompt += \"|\".join([str(cell) for cell in row]) + \" \\n\"\n",
    "table_prompt"
   ]
  },
  {
   "cell_type": "code",
   "execution_count": 44,
   "metadata": {},
   "outputs": [],
   "source": [
    "def create_prompt_instance(table, pre_text, post_text, question, answer, derivation=None):\n",
    "    set_context = \"You are an intelligent financial data analyst. You are given a table with financial data. You are also given a paragraph that provides some context about the data in the table. You are asked a question about the data in the table or paragraph. You are expected to answer the question based on the data in the table and the paragraph.\\n\"\n",
    "    table_prompt = \"The table provide the financial data. All the elements in the table are separated by \\\"|\\\". The first row of the table contains the column names. In the following rows, the first column contains the row name and the rest of the elements are the values in the row assigned to the respective columns. Interpret the table and use the data in it to calculate the answer to the provided quesions.\\n\"\n",
    "    # paragraph_prompt = \"The paragraphs provides some context about the data in the table. It may contain information that is not present in the table. It may also contain some numbers which might require arithmatic processing to get the answer. There may be multiple paragraphs separated by keyword matching \\\"Paragraph [0-9]+:\\\". Interpret each paragraph and use the data and description in it to infer the answer to the provided quesions.\\n\"\n",
    "    pre_text_prompt = \"The pre_text provides some context about the data before the table. It may contain information that is not present in the table. It may also contain some numbers which might require arithmatic processing to get the answer. There may be multiple sentences separated by comma (,). Interpret each pre_text paragraph and use the data and description in it to infer the answer to the provided quesions.\\n\"\n",
    "    post_text_prompt = \"The post_text provides some context about the data after the table. It may contain information that is not present in the table. It may also contain some numbers which might require arithmatic processing to get the answer. There may be multiple sentences separated by comma (,). Interpret each post_text paragraph and use the data and description in it to infer the answer to the provided quesions.\\n\"\n",
    "    question_prompt = \"The question is asked based on the data in the table and the paragraph. You are expected to answer the question based on the data in the table and the paragraph.\\n\"\n",
    "    answer_prompt = \"\" #\"You are expected to answer the question based on the data in the table and the paragraph. Provide only the answer to the question and do not repeat the question. Use the answers provided as labels to learn the correct way to answer the question.\\n\"\n",
    "    # derivation_prompt = \"The derivation provides the steps to calculate the answer to the question. You can learn how to use the derivation to calculate the answer to the question.\\n\"\n",
    "    answer_instruction_prompt = \"\\nInstruction: Answer the question based on the data in the table and the paragraph. Provide only the answer to the question and do not repeat the question. Use the answers provided as labels to learn the correct way to answer the question.\\n\"\n",
    "\n",
    "    table_prompt += f\"\\nTable:\\n\"\n",
    "    for row in table:\n",
    "        table_prompt += \"|\".join([str(cell) for cell in row]) + \" \\n\"\n",
    "\n",
    "    pre_text_prompt += f\"\\nPre_text:\\n {pre_text}\"\n",
    "    post_text_prompt += f\"\\nPost_text:\\n {post_text}\"\n",
    "    question_prompt += f\"\\nQuestion:\\n {question}\"\n",
    "    answer_prompt += f\"\\nAnswer:\\n {answer}\"\n",
    "    # derivation_prompt += f\"\\nDerivation:\\n {derivation}\"\n",
    "\n",
    "    return set_context, table_prompt, pre_text_prompt, post_text_prompt, question_prompt, answer_prompt, answer_instruction_prompt #, derivation_prompt"
   ]
  },
  {
   "cell_type": "code",
   "execution_count": 45,
   "metadata": {},
   "outputs": [],
   "source": [
    "class FinQADataset(Dataset):\n",
    "    def __init__(self, data, tokenizer, max_length=512):\n",
    "        self.data = data\n",
    "        self.tokenizer = tokenizer\n",
    "        self.max_length = max_length\n",
    "        self.qa_pairs = []\n",
    "\n",
    "        for item in self.data:\n",
    "        # item = self.data[idx]\n",
    "            tables = item.get('table', [])\n",
    "            pre_text = item.get('pre_text', [])\n",
    "            post_text = item.get('post_text', [])\n",
    "            qa = item.get('qa', {})\n",
    "\n",
    "            question = qa[\"question\"].strip()\n",
    "            answer = qa[\"answer\"]\n",
    "            # derivation = question_answer.get(\"derivation\", \"\")\n",
    "            # answer_type = question_answer.get(\"answer_type\", \"\")\n",
    "            # answer_from = question_answer.get(\"answer_from\", \"\")\n",
    "            # facts = question_answer.get(\"facts\", \"\")\n",
    "            # answer_mapping = question_answer.get(\"mapping\", \"\")\n",
    "            # scale = question_answer.get(\"scale\", \"\")\n",
    "            # rel_paragraphs = question_answer.get(\"rel_paragraphs\", \"\")\n",
    "            # req_comparison = question_answer.get(\"req_comparison\", \"\")\n",
    "\n",
    "            set_context, table_prompt, pre_text_prompt, post_text_prompt, question_prompt, answer_prompt, answer_instruction_prompt = create_prompt_instance(tables, pre_text, post_text, question, answer)\n",
    "            input_context = (set_context + pre_text_prompt + table_prompt + post_text_prompt + question_prompt + answer_instruction_prompt).strip()\n",
    "            # label_text = (answer_prompt + derivation_prompt + answer_type_prompt + answer_from_prompt + facts_prompt + answer_mapping_prompt + scale_prompt).strip()\n",
    "            label_text = answer_prompt.strip()\n",
    "\n",
    "            # qa_pairs.append({\n",
    "            #     \"input_ids\": inputs.input_ids.squeeze(),\n",
    "            #     \"attention_mask\": inputs.attention_mask.squeeze(),\n",
    "            #     \"labels\": labels\n",
    "            # })\n",
    "\n",
    "            self.qa_pairs.append((\n",
    "                input_context,\n",
    "                label_text\n",
    "            ))\n",
    "        # print(self.qa_pairs[-1])\n",
    "\n",
    "    \n",
    "    def __len__(self):\n",
    "        return len(self.data)\n",
    "    \n",
    "    def __getitem__(self, idx):\n",
    "        input_context, label_text = self.qa_pairs[idx]\n",
    "\n",
    "        # inputs = self.tokenizer( \n",
    "        #             input_context, \n",
    "        #             # max_length=self.max_length, \n",
    "        #             # truncation=True, \n",
    "        #             # padding=\"max_length\", \n",
    "        #             return_tensors=\"pt\"\n",
    "        #         )\n",
    "\n",
    "        # labels = self.tokenizer(\n",
    "        #             label_text, \n",
    "        #             # max_length=self.max_length, \n",
    "        #             # truncation=True, \n",
    "        #             # padding=\"max_length\", \n",
    "        #             return_tensors=\"pt\"\n",
    "        #         )\n",
    "\n",
    "        # input_ids = inputs[\"input_ids\"].squeeze(0)\n",
    "        # attention_mask = inputs[\"attention_mask\"].squeeze(0)\n",
    "        # labels = labels[\"input_ids\"].squeeze(0)\n",
    "\n",
    "\n",
    "        return {\n",
    "            # \"input_ids\": input_ids,\n",
    "            # \"attention_mask\": attention_mask,\n",
    "            # \"labels\": labels\n",
    "            \"input_context\": input_context,\n",
    "            \"label_text\": label_text\n",
    "        }"
   ]
  },
  {
   "cell_type": "code",
   "execution_count": 46,
   "metadata": {},
   "outputs": [],
   "source": [
    "from transformers import AutoTokenizer\n",
    "model_name = \"microsoft/Phi-3.5-mini-instruct\"\n",
    "cache_dir = \"/cs/student/projects1/aibh/2024/tpatil/.cache/huggingface\"\n",
    "tokenizer = AutoTokenizer.from_pretrained(model_name, cache_dir=cache_dir)"
   ]
  },
  {
   "cell_type": "code",
   "execution_count": 47,
   "metadata": {},
   "outputs": [],
   "source": [
    "train_dataset_finqa = FinQADataset(train_data_finqa, tokenizer)\n",
    "\n",
    "train_dataloader_finqa = DataLoader(\n",
    "    train_dataset_finqa, \n",
    "    batch_size=1, \n",
    "    shuffle=False\n",
    ")"
   ]
  },
  {
   "cell_type": "code",
   "execution_count": 48,
   "metadata": {},
   "outputs": [
    {
     "data": {
      "text/plain": [
       "{'input_context': ['You are an intelligent financial data analyst. You are given a table with financial data. You are also given a paragraph that provides some context about the data in the table. You are asked a question about the data in the table or paragraph. You are expected to answer the question based on the data in the table and the paragraph.\\nThe pre_text provides some context about the data before the table. It may contain information that is not present in the table. It may also contain some numbers which might require arithmatic processing to get the answer. There may be multiple sentences separated by comma (,). Interpret each pre_text paragraph and use the data and description in it to infer the answer to the provided quesions.\\n\\nPre_text:\\n [\\'interest rate to a variable interest rate based on the three-month libor plus 2.05% ( 2.05 % ) ( 2.34% ( 2.34 % ) as of october 31 , 2009 ) .\\', \\'if libor changes by 100 basis points , our annual interest expense would change by $ 3.8 million .\\', \\'foreign currency exposure as more fully described in note 2i .\\', \\'in the notes to consolidated financial statements contained in item 8 of this annual report on form 10-k , we regularly hedge our non-u.s .\\', \\'dollar-based exposures by entering into forward foreign currency exchange contracts .\\', \\'the terms of these contracts are for periods matching the duration of the underlying exposure and generally range from one month to twelve months .\\', \\'currently , our largest foreign currency exposure is the euro , primarily because our european operations have the highest proportion of our local currency denominated expenses .\\', \\'relative to foreign currency exposures existing at october 31 , 2009 and november 1 , 2008 , a 10% ( 10 % ) unfavorable movement in foreign currency exchange rates over the course of the year would not expose us to significant losses in earnings or cash flows because we hedge a high proportion of our year-end exposures against fluctuations in foreign currency exchange rates .\\', \\'the market risk associated with our derivative instruments results from currency exchange rate or interest rate movements that are expected to offset the market risk of the underlying transactions , assets and liabilities being hedged .\\', \\'the counterparties to the agreements relating to our foreign exchange instruments consist of a number of major international financial institutions with high credit ratings .\\', \\'we do not believe that there is significant risk of nonperformance by these counterparties because we continually monitor the credit ratings of such counterparties .\\', \\'while the contract or notional amounts of derivative financial instruments provide one measure of the volume of these transactions , they do not represent the amount of our exposure to credit risk .\\', \\'the amounts potentially subject to credit risk ( arising from the possible inability of counterparties to meet the terms of their contracts ) are generally limited to the amounts , if any , by which the counterparties 2019 obligations under the contracts exceed our obligations to the counterparties .\\', \\'the following table illustrates the effect that a 10% ( 10 % ) unfavorable or favorable movement in foreign currency exchange rates , relative to the u.s .\\', \\'dollar , would have on the fair value of our forward exchange contracts as of october 31 , 2009 and november 1 , 2008: .\\']The table provide the financial data. All the elements in the table are separated by \"|\". The first row of the table contains the column names. In the following rows, the first column contains the row name and the rest of the elements are the values in the row assigned to the respective columns. Interpret the table and use the data in it to calculate the answer to the provided quesions.\\n\\nTable:\\n|october 31 2009|november 1 2008 \\nfair value of forward exchange contracts asset ( liability )|$ 6427|$ -23158 ( 23158 ) \\nfair value of forward exchange contracts after a 10% ( 10 % ) unfavorable movement in foreign currency exchange rates asset ( liability )|$ 20132|$ -9457 ( 9457 ) \\nfair value of forward exchange contracts after a 10% ( 10 % ) favorable movement in foreign currency exchange rates liability|$ -6781 ( 6781 )|$ -38294 ( 38294 ) \\nThe post_text provides some context about the data after the table. It may contain information that is not present in the table. It may also contain some numbers which might require arithmatic processing to get the answer. There may be multiple sentences separated by comma (,). Interpret each post_text paragraph and use the data and description in it to infer the answer to the provided quesions.\\n\\nPost_text:\\n [\\'fair value of forward exchange contracts after a 10% ( 10 % ) unfavorable movement in foreign currency exchange rates asset ( liability ) .\\', \\'.\\', \\'.\\', \\'.\\', \\'.\\', \\'.\\', \\'.\\', \\'.\\', \\'.\\', \\'$ 20132 $ ( 9457 ) fair value of forward exchange contracts after a 10% ( 10 % ) favorable movement in foreign currency exchange rates liability .\\', \\'.\\', \\'.\\', \\'.\\', \\'.\\', \\'.\\', \\'.\\', \\'.\\', \\'.\\', \\'.\\', \\'.\\', \\'.\\', \\'.\\', \\'.\\', \\'.\\', \\'.\\', \\'.\\', \\'.\\', \\'.\\', \\'.\\', \\'.\\', \\'.\\', \\'$ ( 6781 ) $ ( 38294 ) the calculation assumes that each exchange rate would change in the same direction relative to the u.s .\\', \\'dollar .\\', \\'in addition to the direct effects of changes in exchange rates , such changes typically affect the volume of sales or the foreign currency sales price as competitors 2019 products become more or less attractive .\\', \\'our sensitivity analysis of the effects of changes in foreign currency exchange rates does not factor in a potential change in sales levels or local currency selling prices. .\\']The question is asked based on the data in the table and the paragraph. You are expected to answer the question based on the data in the table and the paragraph.\\n\\nQuestion:\\n what is the the interest expense in 2009?\\nInstruction: Answer the question based on the data in the table and the paragraph. Provide only the answer to the question and do not repeat the question. Use the answers provided as labels to learn the correct way to answer the question.'],\n",
       " 'label_text': ['Answer:\\n 380']}"
      ]
     },
     "execution_count": 48,
     "metadata": {},
     "output_type": "execute_result"
    }
   ],
   "source": [
    "next(iter(train_dataloader_finqa))"
   ]
  }
 ],
 "metadata": {
  "kernelspec": {
   "display_name": "venv_comp0188",
   "language": "python",
   "name": "python3"
  },
  "language_info": {
   "codemirror_mode": {
    "name": "ipython",
    "version": 3
   },
   "file_extension": ".py",
   "mimetype": "text/x-python",
   "name": "python",
   "nbconvert_exporter": "python",
   "pygments_lexer": "ipython3",
   "version": "3.9.21"
  }
 },
 "nbformat": 4,
 "nbformat_minor": 2
}
