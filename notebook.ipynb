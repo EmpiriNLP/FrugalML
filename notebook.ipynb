{
 "cells": [
  {
   "cell_type": "code",
   "execution_count": 1,
   "metadata": {},
   "outputs": [],
   "source": [
    "import torch\n",
    "from datasets import Features, Value, load_dataset, Sequence\n",
    "from transformers import AutoModelForCausalLM, AutoTokenizer, BitsAndBytesConfig\n",
    "from fuzzywuzzy import fuzz\n",
    "import re\n",
    "\n",
    "def preprocess_function2(example):\n",
    "    question = example[\"qa\"].get(\"question\", \"No question available.\")\n",
    "    expected_answer = str(example['qa'].get(\"answer\", \"\")).strip()  # Force text\n",
    "    table = example.get(\"table\", [])\n",
    "    table_str = \"\\n\".join([\" | \".join(row) for row in table])\n",
    "\n",
    "    pre_text = \" \".join(example.get(\"pre_text\", []))\n",
    "    post_text = \" \".join(example.get(\"post_text\", []))\n",
    "\n",
    "#    gold_inds = example[\"qa\"].get(\"gold_inds\", {})\n",
    "#    relevant_info = \"\\n\".join(gold_inds.values())\n",
    "#    program = example[\"qa\"].get(\"program\", \"\")\n",
    "\n",
    "    input_text = (\n",
    "        \"You are a financial calculator. Follow these steps:\\n\"\n",
    "        \"Return ONLY the final numerical answer with no text explanation\\n\\n\"\n",
    "        f\"Pre Text Data:\\n{pre_text}\\n\\n\"\n",
    "        f\"Table Data:\\n{table_str}\\n\\n\"\n",
    "        f\"Post Text Data:\\n{post_text}\\n\\n\"\n",
    "        f\"Question: {question}\\n\"\n",
    "        \"Final Answer (number only): \"\n",
    "    )\n",
    "\n",
    "    return {\n",
    "        \"input_text\": input_text,\n",
    "        \"expected_answer\": expected_answer\n",
    "    }"
   ]
  },
  {
   "cell_type": "code",
   "execution_count": null,
   "metadata": {},
   "outputs": [
    {
     "data": {
      "application/vnd.jupyter.widget-view+json": {
       "model_id": "f15dbca9fec4458a9782740bde48fda6",
       "version_major": 2,
       "version_minor": 0
      },
      "text/plain": [
       "Map:   0%|          | 0/22 [00:00<?, ? examples/s]"
      ]
     },
     "metadata": {},
     "output_type": "display_data"
    }
   ],
   "source": [
    "dataset = load_dataset(\n",
    "    \"json\",\n",
    "    data_files=\"train3.json\",\n",
    "    split=\"train\",\n",
    ")\n",
    "\n",
    "dataset = dataset.map(preprocess_function2, remove_columns=dataset.column_names)\n"
   ]
  },
  {
   "cell_type": "code",
   "execution_count": 5,
   "metadata": {},
   "outputs": [
    {
     "data": {
      "text/plain": [
       "Dataset({\n",
       "    features: ['pre_text', 'post_text', 'filename', 'table_ori', 'table', 'qa', 'id', 'table_retrieved', 'text_retrieved', 'table_retrieved_all', 'text_retrieved_all', 'input_text', 'expected_answer'],\n",
       "    num_rows: 22\n",
       "})"
      ]
     },
     "execution_count": 5,
     "metadata": {},
     "output_type": "execute_result"
    }
   ],
   "source": [
    "dataset"
   ]
  }
 ],
 "metadata": {
  "kernelspec": {
   "display_name": "Python 3",
   "language": "python",
   "name": "python3"
  },
  "language_info": {
   "codemirror_mode": {
    "name": "ipython",
    "version": 3
   },
   "file_extension": ".py",
   "mimetype": "text/x-python",
   "name": "python",
   "nbconvert_exporter": "python",
   "pygments_lexer": "ipython3",
   "version": "3.12.7"
  }
 },
 "nbformat": 4,
 "nbformat_minor": 2
}
