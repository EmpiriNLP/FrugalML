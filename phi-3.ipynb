{
 "cells": [
  {
   "cell_type": "code",
   "execution_count": 1,
   "metadata": {},
   "outputs": [
    {
     "name": "stdout",
     "output_type": "stream",
     "text": [
      "Model weights are stored in: /cs/student/projects2/aisd/2024/shekchu/snlp\n"
     ]
    }
   ],
   "source": [
    "import os\n",
    "\n",
    "# Set the cache directory to your preferred path\n",
    "os.environ['HF_HOME'] = '/cs/student/projects2/aisd/2024/shekchu/snlp'\n",
    "\n",
    "# Access the cache directory using the environment variable\n",
    "cache_dir = os.getenv('HF_HOME', 'Cache directory not set')\n",
    "print(f\"Model weights are stored in: {cache_dir}\")"
   ]
  },
  {
   "cell_type": "code",
   "execution_count": 7,
   "metadata": {},
   "outputs": [
    {
     "name": "stderr",
     "output_type": "stream",
     "text": [
      "Loading checkpoint shards: 100%|██████████| 2/2 [00:02<00:00,  1.08s/it]\n"
     ]
    },
    {
     "data": {
      "text/plain": [
       "Phi3ForCausalLM(\n",
       "  (model): Phi3Model(\n",
       "    (embed_tokens): Embedding(32064, 3072, padding_idx=32000)\n",
       "    (embed_dropout): Dropout(p=0.0, inplace=False)\n",
       "    (layers): ModuleList(\n",
       "      (0-31): 32 x Phi3DecoderLayer(\n",
       "        (self_attn): Phi3FlashAttention2(\n",
       "          (o_proj): Linear(in_features=3072, out_features=3072, bias=False)\n",
       "          (qkv_proj): Linear(in_features=3072, out_features=9216, bias=False)\n",
       "          (rotary_emb): Phi3LongRoPEScaledRotaryEmbedding()\n",
       "        )\n",
       "        (mlp): Phi3MLP(\n",
       "          (gate_up_proj): Linear(in_features=3072, out_features=16384, bias=False)\n",
       "          (down_proj): Linear(in_features=8192, out_features=3072, bias=False)\n",
       "          (activation_fn): SiLU()\n",
       "        )\n",
       "        (input_layernorm): Phi3RMSNorm()\n",
       "        (resid_attn_dropout): Dropout(p=0.0, inplace=False)\n",
       "        (resid_mlp_dropout): Dropout(p=0.0, inplace=False)\n",
       "        (post_attention_layernorm): Phi3RMSNorm()\n",
       "      )\n",
       "    )\n",
       "    (norm): Phi3RMSNorm()\n",
       "  )\n",
       "  (lm_head): Linear(in_features=3072, out_features=32064, bias=False)\n",
       ")"
      ]
     },
     "execution_count": 7,
     "metadata": {},
     "output_type": "execute_result"
    }
   ],
   "source": [
    "from transformers import AutoModelForCausalLM, AutoTokenizer, BitsAndBytesConfig\n",
    "import torch\n",
    "\n",
    "model_name = \"microsoft/Phi-3.5-mini-instruct\"\n",
    "tokenizer = AutoTokenizer.from_pretrained(model_name, trust_remote_code=True)\n",
    "# quantization_config = BitsAndBytesConfig(\n",
    "#     load_in_8bit=True\n",
    "# )\n",
    "\n",
    "model = AutoModelForCausalLM.from_pretrained(\n",
    "    \"microsoft/Phi-3.5-mini-instruct\", \n",
    "    device_map=\"cuda\", \n",
    "    torch_dtype=torch.float16, \n",
    "    # torch_dtype='auto', \n",
    "    trust_remote_code=True, \n",
    "    attn_implementation=\"flash_attention_2\",\n",
    "    # quantization_config=quantization_config,\n",
    ")\n",
    "model.config.use_cache = False  # Disable the cache to avoid conflicts with gradient checkpointing\n",
    "model.gradient_checkpointing_enable()\n",
    "model.eval()"
   ]
  },
  {
   "cell_type": "code",
   "execution_count": 8,
   "metadata": {},
   "outputs": [],
   "source": [
    "from datasets import load_dataset\n",
    "\n",
    "# Load the ConvFinQA dataset\n",
    "dataset = load_dataset(\"FinGPT/fingpt-convfinqa\")"
   ]
  },
  {
   "cell_type": "code",
   "execution_count": 9,
   "metadata": {},
   "outputs": [],
   "source": [
    "# # Get the first example from the test set\n",
    "# test_example = dataset['test'][0]\n",
    "\n",
    "# # Format the input (combining instruction and input text)\n",
    "# input_text = f\"{test_example['instruction']}\\n{test_example['input']}\"\n",
    "\n",
    "# # Tokenize input\n",
    "# inputs = tokenizer(input_text, return_tensors=\"pt\").to(\"cuda\")\n",
    "\n",
    "# # Generate response\n",
    "# outputs = model.generate(\n",
    "#     **inputs,\n",
    "#     max_length=2000,\n",
    "#     num_return_sequences=1,\n",
    "#     temperature=0.1,\n",
    "#     pad_token_id=tokenizer.pad_token_id,\n",
    "# )\n",
    "\n",
    "# # Decode the generated response\n",
    "# generated_text = tokenizer.decode(outputs[0], skip_special_tokens=True)\n",
    "\n",
    "# print(\"Input:\\n\", input_text)\n",
    "# print(\"\\nGenerated response:\\n\", generated_text)\n",
    "# print(\"\\nGround truth:\\n\", test_example['output'])"
   ]
  },
  {
   "cell_type": "code",
   "execution_count": 10,
   "metadata": {},
   "outputs": [],
   "source": [
    "from transformers import TrainingArguments, Trainer\n",
    "from torch.utils.data import Dataset\n",
    "import torch\n",
    "\n",
    "# Create a custom dataset class\n",
    "class FinQADataset(Dataset):\n",
    "    def __init__(self, dataset, tokenizer):\n",
    "        self.dataset = dataset\n",
    "        self.tokenizer = tokenizer\n",
    "    \n",
    "    def __len__(self):\n",
    "        return len(self.dataset)\n",
    "    \n",
    "    def __getitem__(self, idx):\n",
    "        item = self.dataset[idx]\n",
    "        # Format input like we did for testing\n",
    "        input_text = f\"{item['instruction']}\\n{item['input']}\"\n",
    "        target_text = item['output']\n",
    "        \n",
    "        # Tokenize input and target\n",
    "        model_inputs = self.tokenizer(input_text, truncation=True, padding='max_length', max_length=512)\n",
    "        target = self.tokenizer(target_text, truncation=True, padding='max_length', max_length=512)\n",
    "        \n",
    "        # Convert to tensor\n",
    "        input_ids = torch.tensor(model_inputs['input_ids'])\n",
    "        attention_mask = torch.tensor(model_inputs['attention_mask'])\n",
    "        labels = torch.tensor(target['input_ids'])\n",
    "        \n",
    "        return {\n",
    "            'input_ids': input_ids,\n",
    "            'attention_mask': attention_mask,\n",
    "            'labels': labels\n",
    "        }\n",
    "\n",
    "# Create training dataset\n",
    "train_dataset = FinQADataset(dataset['train'], tokenizer)"
   ]
  },
  {
   "cell_type": "code",
   "execution_count": null,
   "metadata": {},
   "outputs": [],
   "source": [
    "# Define training arguments\n",
    "# Define training arguments\n",
    "training_args = TrainingArguments(\n",
    "    output_dir=\"./phi-3-5-finetuned\",\n",
    "    num_train_epochs=3,\n",
    "    per_device_train_batch_size=1,\n",
    "    gradient_accumulation_steps=4,  # Increased to help with memory\n",
    "    learning_rate=2e-5,\n",
    "    warmup_steps=100,\n",
    "    logging_dir='./logs',\n",
    "    logging_steps=10,\n",
    "    save_strategy=\"epoch\",\n",
    "    bf16=True,  # Switch to BF16 instead of FP16\n",
    "    fp16=False,  # Disable FP16\n",
    "    fp16_full_eval=True,  # Disable FP16 evaluation\n",
    "    gradient_checkpointing=True,  # Enable gradient checkpointing\n",
    ")\n",
    "\n",
    "# Initialize trainer\n",
    "trainer = Trainer(\n",
    "    model=model,\n",
    "    args=training_args,\n",
    "    # processing_class=PreTrainedTokenizerFast.from_pretrained('your-model-name'),\n",
    "    train_dataset=train_dataset,\n",
    "    tokenizer=tokenizer,\n",
    ")"
   ]
  },
  {
   "cell_type": "code",
   "execution_count": null,
   "metadata": {},
   "outputs": [],
   "source": [
    "trainer.train()"
   ]
  }
 ],
 "metadata": {
  "kernelspec": {
   "display_name": "snlp",
   "language": "python",
   "name": "python3"
  },
  "language_info": {
   "codemirror_mode": {
    "name": "ipython",
    "version": 3
   },
   "file_extension": ".py",
   "mimetype": "text/x-python",
   "name": "python",
   "nbconvert_exporter": "python",
   "pygments_lexer": "ipython3",
   "version": "3.9.21"
  }
 },
 "nbformat": 4,
 "nbformat_minor": 2
}
